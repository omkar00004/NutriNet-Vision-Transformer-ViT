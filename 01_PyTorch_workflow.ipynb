{
  "nbformat": 4,
  "nbformat_minor": 0,
  "metadata": {
    "colab": {
      "provenance": [],
      "gpuType": "T4"
    },
    "kernelspec": {
      "name": "python3",
      "display_name": "Python 3"
    },
    "language_info": {
      "name": "python"
    },
    "accelerator": "GPU"
  },
  "cells": [
    {
      "cell_type": "markdown",
      "source": [
        "Resources : https://www.learnpytorch.io/01_pytorch_workflow/"
      ],
      "metadata": {
        "id": "eevyMAmhudqp"
      }
    },
    {
      "cell_type": "code",
      "source": [
        "what_we_are_covering = {\n",
        "    1:'data(prepare and load)',\n",
        "    2:'build a model',\n",
        "    3:'fitting the model to data(training)',\n",
        "    4:'making predictions and evaluating a model(Inference)',\n",
        "    5:'saving and loading a model',\n",
        "    6:'puttig it all together'\n",
        "}\n",
        "what_we_are_covering"
      ],
      "metadata": {
        "colab": {
          "base_uri": "https://localhost:8080/"
        },
        "id": "bFzZdcA0xFPD",
        "outputId": "a4d6f4b9-64f8-4fc9-c670-d3043ac52a25"
      },
      "execution_count": null,
      "outputs": [
        {
          "output_type": "execute_result",
          "data": {
            "text/plain": [
              "{1: 'data(prepare and load)',\n",
              " 2: 'build a model',\n",
              " 3: 'fitting the model to data(training)',\n",
              " 4: 'making predictions and evaluating a model(Inference)',\n",
              " 5: 'saving and loading a model',\n",
              " 6: 'puttig it all together'}"
            ]
          },
          "metadata": {},
          "execution_count": 1
        }
      ]
    },
    {
      "cell_type": "code",
      "source": [
        "import torch\n",
        "from torch import nn # nn contains all PyTorch building blocks for neural newtorks\n",
        "import matplotlib.pyplot as plt"
      ],
      "metadata": {
        "id": "t_Zckr-ZyGy3"
      },
      "execution_count": null,
      "outputs": []
    },
    {
      "cell_type": "markdown",
      "source": [
        "##1. Data (preparing and loading)\n",
        "\n",
        "Data can be anything..... in machine learing.\n",
        "\n",
        "- Excel spreadsheet\n",
        "- Images of any kind\n",
        "- Videos (YouTube had lot of data)\n",
        "- Audio like songs and Podcasts\n",
        "- DNA\n",
        "- Text\n",
        "\n",
        "Machine learning is a game of two parts:\n",
        "1. Get data in numerical represantation\n",
        "2. Build a model to learn in that numerical represantation.\n",
        "\n",
        "\n",
        "To showcase, this let's create some *known* data using the linear regression formula.\n",
        "\n",
        "we'll use a linear regression formula to make a straight line with *known* **parameters**"
      ],
      "metadata": {
        "id": "idQRd66rzHUS"
      }
    },
    {
      "cell_type": "code",
      "source": [
        "# Create *known* parameters\n",
        "weight = 0.7\n",
        "bias = 0.3\n",
        "\n",
        "# Create\n",
        "start = 0\n",
        "end = 1\n",
        "step = 0.02\n",
        "X = torch.arange(start, end, step).unsqueeze(dim=1)\n",
        "y = weight * X + bias\n",
        "\n",
        "X[:10], y[:10]"
      ],
      "metadata": {
        "colab": {
          "base_uri": "https://localhost:8080/"
        },
        "id": "BDXYK5wo1WNs",
        "outputId": "0abddb80-f745-4ca0-eb2b-3aec93ccd8eb"
      },
      "execution_count": null,
      "outputs": [
        {
          "output_type": "execute_result",
          "data": {
            "text/plain": [
              "(tensor([[0.0000],\n",
              "         [0.0200],\n",
              "         [0.0400],\n",
              "         [0.0600],\n",
              "         [0.0800],\n",
              "         [0.1000],\n",
              "         [0.1200],\n",
              "         [0.1400],\n",
              "         [0.1600],\n",
              "         [0.1800]]),\n",
              " tensor([[0.3000],\n",
              "         [0.3140],\n",
              "         [0.3280],\n",
              "         [0.3420],\n",
              "         [0.3560],\n",
              "         [0.3700],\n",
              "         [0.3840],\n",
              "         [0.3980],\n",
              "         [0.4120],\n",
              "         [0.4260]]))"
            ]
          },
          "metadata": {},
          "execution_count": 3
        }
      ]
    },
    {
      "cell_type": "code",
      "source": [
        "len(X), len(y)"
      ],
      "metadata": {
        "colab": {
          "base_uri": "https://localhost:8080/"
        },
        "id": "vJXaSHDs0bX1",
        "outputId": "e7e7f9ce-8f70-401b-eb8e-3db98420489e"
      },
      "execution_count": null,
      "outputs": [
        {
          "output_type": "execute_result",
          "data": {
            "text/plain": [
              "(50, 50)"
            ]
          },
          "metadata": {},
          "execution_count": 4
        }
      ]
    },
    {
      "cell_type": "markdown",
      "source": [
        "### Splitting data into training and test sets (one of the most important concepts in machine learning in general)"
      ],
      "metadata": {
        "id": "ntRRUi3EzQut"
      }
    },
    {
      "cell_type": "code",
      "source": [
        "# Create training and testing set\n",
        "train_split = int(0.8 * len(X))\n",
        "X_train, y_train = X[:train_split], y[:train_split]\n",
        "X_test, y_test = X[train_split:], y[train_split:]\n",
        "\n",
        "len(X_train), len(y_train), len(X_test), len(y_test)"
      ],
      "metadata": {
        "colab": {
          "base_uri": "https://localhost:8080/"
        },
        "id": "-CeZcP-X5Sfx",
        "outputId": "acbd3dec-76cd-4cb3-e8fa-b68c82a0f55c"
      },
      "execution_count": null,
      "outputs": [
        {
          "output_type": "execute_result",
          "data": {
            "text/plain": [
              "(40, 40, 10, 10)"
            ]
          },
          "metadata": {},
          "execution_count": 5
        }
      ]
    },
    {
      "cell_type": "markdown",
      "source": [
        "How might we better visualize our data?\n",
        "\n",
        "This is where data explorer's motto comes in!\n",
        "\n",
        "\"Visualize, visualize, visualize\""
      ],
      "metadata": {
        "id": "bIHxj1AA7Ati"
      }
    },
    {
      "cell_type": "code",
      "source": [
        "def plot_predictions(train_data=X_train,\n",
        "                     train_labels=y_train,\n",
        "                     test_data=X_test,\n",
        "                     test_labels=y_test,\n",
        "                     predictions=None):\n",
        "    \"\"\"\n",
        "    Plots training data, test data and compares predictions.\n",
        "    \"\"\"\n",
        "\n",
        "    # Plot training data in blue\n",
        "    plt.scatter(train_data, train_labels, c=\"b\", s=4, label=\"Training Data\")\n",
        "\n",
        "    # Plot test data in green\n",
        "    plt.scatter(test_data, test_labels, c=\"g\", s=4, label=\"Testing Data\")\n",
        "\n",
        "    # Are there predictions?\n",
        "    if predictions is not None:\n",
        "        # plot the predictions if they exist\n",
        "        plt.scatter(test_data, predictions, c=\"r\", s=5, label=\"Predictions\")\n",
        "\n",
        "    # Show the legend\n",
        "    plt.legend(prop={\"size\":14});"
      ],
      "metadata": {
        "id": "t6_DiAlk8ako"
      },
      "execution_count": null,
      "outputs": []
    },
    {
      "cell_type": "code",
      "source": [
        "plot_predictions()"
      ],
      "metadata": {
        "colab": {
          "base_uri": "https://localhost:8080/",
          "height": 430
        },
        "id": "1q76W16HMczD",
        "outputId": "6d91defc-bd93-4557-a3a3-04017d5f274b"
      },
      "execution_count": null,
      "outputs": [
        {
          "output_type": "display_data",
          "data": {
            "text/plain": [
              "<Figure size 640x480 with 1 Axes>"
            ],
            "image/png": "[encoded data removed]"
          },
          "metadata": {}
        }
      ]
    },
    {
      "cell_type": "markdown",
      "source": [
        "##2. Build model\n",
        "\n",
        "Our first PyTorch model!"
      ],
      "metadata": {
        "id": "fu3q0ZKE1HIG"
      }
    },
    {
      "cell_type": "markdown",
      "source": [
        "For `OOP` reference : https://realpython.com/python3-object-oriented-programming/\n",
        "\n",
        "super(): You can access the parent class from inside a method of a child class by using **super()**\n",
        "\n",
        "what our model does:\n",
        "- start with random values(weight & bias)\n",
        "- Look at training data and adjust the random values to better represent (or get closer to) the ideal values(weight and the bias values we used to create the data)\n",
        "\n",
        "How does it do so?\n",
        "\n",
        "Through two main algorithms:\n",
        "1. Gradient descent\n",
        "2. Backpropogation\n"
      ],
      "metadata": {
        "id": "Y-ylo6ozR4Xz"
      }
    },
    {
      "cell_type": "code",
      "source": [
        "# Create linear regression model class\n",
        "class LinearRegressionModel(nn.Module): # <- almost everythnig in PyTorch inherits from nn.Module ->\n",
        "    def __init__(self):\n",
        "        super().__init__()\n",
        "        self.weights = nn.Parameter(torch.randn(1,\n",
        "                                                requires_grad=True,\n",
        "                                                dtype=torch.float))\n",
        "\n",
        "        self.bias = nn.Parameter(torch.randn(1,\n",
        "                                             requires_grad=True,\n",
        "                                             dtype=torch.float))\n",
        "\n",
        "    # Forward method to define computation in the model\n",
        "    def forward(self, x: torch.Tensor) -> torch.Tensor:  # <- \"x\" is the input data\n",
        "        return self.weights * x + self.bias # this is the linear regression formula"
      ],
      "metadata": {
        "id": "JZ5hujeCPaUU"
      },
      "execution_count": null,
      "outputs": []
    },
    {
      "cell_type": "markdown",
      "source": [
        "In PyTorch, `nn.Parameter` is a special type of tensor used to define trainable parameters in neural networks. It is primarily used within `torch.nn.Module` to indicate that a tensor is a model parameter that should be automatically registered and considered during optimization (e.g., for gradient computation and updates).\n",
        "\n",
        "In Python, `subclasses` refer to classes that inherit attributes and methods from a parent class (also known as a superclass or base class)."
      ],
      "metadata": {
        "id": "STTEG9ZXKLij"
      }
    },
    {
      "cell_type": "markdown",
      "source": [
        "## PyTorch model buliding essential\n",
        "\n",
        "- torch.nn - contains all of the buildings blcoks for computational graphs (a neural network can be considered as a computational graph)\n",
        "- torch.nn.Parameter - what parameteres our model try and learn, often a PyTorch layer from torch.nn will set these for us\n",
        "- torch.nn.Module - The base class for all neural networks modules, if you `subclasses` it , you should overwrite forward()\n",
        "- torch.optim - this is where the optimizers in PyTorch live, they will help with gradient descent\n",
        "- def forward() - All nn.Module subclasses require you to overwrite forward(), this method defines what happens in the forward propogation"
      ],
      "metadata": {
        "id": "-Yk-Ea3UKWZ5"
      }
    },
    {
      "cell_type": "markdown",
      "source": [
        "### Checking the contents of our PyTorch model\n",
        "\n",
        "So we can check our model parameters or what's inside our model using `.parameters()`."
      ],
      "metadata": {
        "id": "wv2WXfq4UgwL"
      }
    },
    {
      "cell_type": "code",
      "source": [
        "# Create a random seed\n",
        "torch.manual_seed(42)\n",
        "\n",
        "# Create an instance of the model (this is a subclass of nn.Module)\n",
        "model_0 = LinearRegressionModel()\n",
        "\n",
        "#Check out the Parameters\n",
        "list(model_0.parameters())"
      ],
      "metadata": {
        "colab": {
          "base_uri": "https://localhost:8080/"
        },
        "id": "hTdmYrK0ZAFV",
        "outputId": "87c35cb7-9f55-4772-e2d1-539c58a980fb"
      },
      "execution_count": null,
      "outputs": [
        {
          "output_type": "execute_result",
          "data": {
            "text/plain": [
              "[Parameter containing:\n",
              " tensor([0.3367], requires_grad=True),\n",
              " Parameter containing:\n",
              " tensor([0.1288], requires_grad=True)]"
            ]
          },
          "metadata": {},
          "execution_count": 9
        }
      ]
    },
    {
      "cell_type": "code",
      "source": [
        "# List named parameters\n",
        "model_0.state_dict()"
      ],
      "metadata": {
        "colab": {
          "base_uri": "https://localhost:8080/"
        },
        "id": "BNhP0XoyacSR",
        "outputId": "9fa3f479-b4f3-4892-8abd-63732e3ee046"
      },
      "execution_count": null,
      "outputs": [
        {
          "output_type": "execute_result",
          "data": {
            "text/plain": [
              "OrderedDict([('weights', tensor([0.3367])), ('bias', tensor([0.1288]))])"
            ]
          },
          "metadata": {},
          "execution_count": 10
        }
      ]
    },
    {
      "cell_type": "code",
      "source": [
        " weight, bias"
      ],
      "metadata": {
        "colab": {
          "base_uri": "https://localhost:8080/"
        },
        "id": "U1jFaWafbFKE",
        "outputId": "485f8eec-b493-4f23-828f-1a747fee35bd"
      },
      "execution_count": null,
      "outputs": [
        {
          "output_type": "execute_result",
          "data": {
            "text/plain": [
              "(0.7, 0.3)"
            ]
          },
          "metadata": {},
          "execution_count": 11
        }
      ]
    },
    {
      "cell_type": "markdown",
      "source": [
        "### Making prediction using `torch.inference_mode ()`\n",
        "\n",
        "To check our model's predictive power, let's see how well it predicts y_test based on x_test.\n",
        "\n",
        "When we pass data through our model, it's going to run it through the `forward()` method."
      ],
      "metadata": {
        "id": "PMKzt8WtbpEb"
      }
    },
    {
      "cell_type": "code",
      "source": [
        "# Make predictions with model (Predictions == Inference)\n",
        "with torch.inference_mode(): # inference_mode shuts down the to track the gradient descent because while predicting we don't need to keep gradient descent data Therefore, `torch.inference_mode()` runs faster\n",
        "    y_preds = model_0(X_test)\n",
        "\n",
        "# You can also do similar with torch.no_grad(), however, torch.inference_mode() is preferred\n",
        "# with torch.no_grad():\n",
        "#     y_preds = model_0(X_test)\n",
        "\n",
        "y_preds"
      ],
      "metadata": {
        "colab": {
          "base_uri": "https://localhost:8080/"
        },
        "id": "LQbV8UYAePck",
        "outputId": "ac8a8832-995e-4c66-bc23-cd46983dbe4b"
      },
      "execution_count": null,
      "outputs": [
        {
          "output_type": "execute_result",
          "data": {
            "text/plain": [
              "tensor([[0.3982],\n",
              "        [0.4049],\n",
              "        [0.4116],\n",
              "        [0.4184],\n",
              "        [0.4251],\n",
              "        [0.4318],\n",
              "        [0.4386],\n",
              "        [0.4453],\n",
              "        [0.4520],\n",
              "        [0.4588]])"
            ]
          },
          "metadata": {},
          "execution_count": 12
        }
      ]
    },
    {
      "cell_type": "code",
      "source": [
        "plot_predictions(predictions=y_preds)"
      ],
      "metadata": {
        "colab": {
          "base_uri": "https://localhost:8080/",
          "height": 430
        },
        "id": "0V3qFBtbe62O",
        "outputId": "a175cfef-35a0-4770-d560-ea9b41a79c53"
      },
      "execution_count": null,
      "outputs": [
        {
          "output_type": "display_data",
          "data": {
            "text/plain": [
              "<Figure size 640x480 with 1 Axes>"
            ],
            "image/png": "[encoded data removed]"
          },
          "metadata": {}
        }
      ]
    },
    {
      "cell_type": "markdown",
      "source": [
        "## 3. Train model\n",
        "\n",
        "The whole idea of training is for a model to move from some *unknown* parameters(these may be random) to some *known* parameters.\n",
        "\n",
        "Or in other words from a poor representation of the data to a better repersenatation of dat.\n",
        "\n",
        "One way to measure how poor or how wrong your models predictions are is to use a loss function.\n",
        "\n",
        "- Note: Loss functions may also be called cost function or criterion in different areas. For our case, we're going to refer to it as a Loss function.\n",
        "\n",
        "-  **Loss function:** Predicted value - actual value (how wrong our model's prediction are to the ideal outputs, lower is better).\n",
        "\n",
        "- **Optimizers** - Takes into account the loss of a model and adjusts the model's parameters's (weight and bias in our case) to improve the loss function.\n",
        "    - Inside the optimizer you'll often have to set two parameters:\n",
        "        - `params` - the model parameters you'd like to optimize or example `params=model_0.parameters()`\n",
        "        -lr(learning rate) - the learnig rate is a hyperparameter(`A hyperparameter is a setting chosen by a machine learning engineer before training a model, which controls how the model learns or its structure. Examples include learning rate, number of layers, or batch size.`) that defines how big/small the optimizer changes the parameters with each step (a small lr results in small changes, a large lr results in large changes)\n",
        "- **Gradient Descent** is an algorithm that you can apply to try to minimize the cost function of the models\n",
        "\n",
        "\n",
        "\n",
        "And specifically for PyTroch, we need:\n",
        "- A training loop\n",
        "- A testing loop"
      ],
      "metadata": {
        "id": "jVqAXQPHe-0D"
      }
    },
    {
      "cell_type": "markdown",
      "source": [
        "#### How *learning rate* effects *coefficients*\n",
        "1. Let's say we choose a small learning rate like `0.0001`.\n",
        "2. And our $j(w)$ function graph looks like this:\n",
        "\n",
        "<img src=\"https://github.com/Param302/ML-specialization-notes/raw/master/Course%201%20-%20Supervised%20Machine%20Learning/Week%201%20-%20Intro%20to%20ML/images/learning-rate-graph-1.jpg\" alt=\"learning rate graph\" width=\"500px\">\n",
        "\n",
        "3. And we choose the value of `w` parameter on the marker.\n",
        "4. And we draw the tangent and find it's *slope* and multiply it by *learning rate*.\n",
        "5. So, lower the learning rate, means taking a very small step.\n",
        "6. Small steps takes a lot of time, to reach the minimum value of `w`.\n",
        "7. So, *gradient descent* will work very slow.\n",
        "\n",
        "<img src=\"https://github.com/Param302/ML-specialization-notes/raw/master/Course%201%20-%20Supervised%20Machine%20Learning/Week%201%20-%20Intro%20to%20ML/images/learning-rate-graph-2.jpg\" alt=\"learning graph reaching minimum value\" width=\"500px\">\n",
        "\n",
        "Let's see what happens, if we choose a large learning rate like `0.9`.\n",
        "\n",
        "1. At first our $j(w)$ function graph look like this:\n",
        "\n",
        "<img src=\"https://github.com/Param302/ML-specialization-notes/raw/master/Course%201%20-%20Supervised%20Machine%20Learning/Week%201%20-%20Intro%20to%20ML/images/learning-rate-graph-3.jpg\" alt=\"learning rate graph another example\" width=\"500px\">\n",
        "\n",
        "2. And we choose the value of `w` parameter closer to the minimum value.\n",
        "3. If we draw the tangent and find it's *slope* an multiply it by *learning rate*.\n",
        "4. We, eventually skips the minimum value and goes far from minimum value of `w`.\n",
        "5. Because higher *learning rate* lead to take bigger step.\n",
        "6. And we never reach the minimum value, rather go away from it.\n",
        "\n",
        "<img src=\"https://github.com/Param302/ML-specialization-notes/raw/master/Course%201%20-%20Supervised%20Machine%20Learning/Week%201%20-%20Intro%20to%20ML/images/learning-rate-graph-4.jpg\" alt=\"learning rate graph another example\" width=\"500px\">\n",
        "\n",
        "> #### If α is too large...\n",
        "> Gradient descent may:\n",
        "> - Overshoot, never reach minimum\n",
        "> - Fail to converge, diverge    ~ *Andrew Ng*"
      ],
      "metadata": {
        "id": "eisiVlwakXAT"
      }
    },
    {
      "cell_type": "code",
      "source": [
        "list(model_0.parameters())"
      ],
      "metadata": {
        "colab": {
          "base_uri": "https://localhost:8080/"
        },
        "id": "j2Wor4tjkkbW",
        "outputId": "ac7414cc-2526-4e31-be29-b62fc6bed29e"
      },
      "execution_count": null,
      "outputs": [
        {
          "output_type": "execute_result",
          "data": {
            "text/plain": [
              "[Parameter containing:\n",
              " tensor([0.3367], requires_grad=True),\n",
              " Parameter containing:\n",
              " tensor([0.1288], requires_grad=True)]"
            ]
          },
          "metadata": {},
          "execution_count": 14
        }
      ]
    },
    {
      "cell_type": "code",
      "source": [
        "# Check out our model's parameters ( a parameter is value that the model sets itself)\n",
        "model_0.state_dict()"
      ],
      "metadata": {
        "id": "Nq_A5ppSkF6t",
        "colab": {
          "base_uri": "https://localhost:8080/"
        },
        "outputId": "e917d1f1-bfb1-4b72-9093-1698da78f888"
      },
      "execution_count": null,
      "outputs": [
        {
          "output_type": "execute_result",
          "data": {
            "text/plain": [
              "OrderedDict([('weights', tensor([0.3367])), ('bias', tensor([0.1288]))])"
            ]
          },
          "metadata": {},
          "execution_count": 15
        }
      ]
    },
    {
      "cell_type": "code",
      "source": [
        "# Setup a loss function\n",
        "loss_fn = nn.L1Loss() # L1 == MAE\n",
        "\n",
        "# Setup an optimizer (stochastic gradient descent)\n",
        "optimizer = torch.optim.SGD(params=model_0.parameters(),  # we want to optimize the parameters in our model\n",
        "                            lr = 0.01) # lr - learning rate"
      ],
      "metadata": {
        "id": "BicguuU-jzpo"
      },
      "execution_count": null,
      "outputs": []
    },
    {
      "cell_type": "markdown",
      "source": [
        "- #### **Stochastic Gradient Descent (SGD)** is an optimization algorithm used to train machine learning models by minimizing a loss function. It updates the model's parameters (e.g., weights) iteratively based on the gradient of the loss with respect to those parameters.\n",
        "\n",
        "    -   ### **Gradient Descent vs. Stochastic Gradient Descent**\n",
        "\n",
        "    #### **Gradient Descent**:\n",
        "    - In **Batch Gradient Descent**, the algorithm computes the gradients of the entire dataset to update the parameters.\n",
        "    - This ensures an accurate direction for updates but can be computationally expensive, especially for large datasets.\n",
        "\n",
        "    #### **Stochastic Gradient Descent**:\n",
        "    - In **SGD**, the parameters are updated for each training example (or for a small random subset of examples).\n",
        "    - This means SGD performs updates much more frequently than Batch Gradient Descent.\n",
        "\n",
        "\n",
        "- The MSE is a measure of the quality of an estimator. As it is derived from the square of Euclidean distance, it is always a positive value that decreases as the error approaches zero.\n",
        "    - # MAE (Mean Absolute Error)\n",
        "\n",
        "**Mean Absolute Error (MAE)** is a metric used to evaluate the performance of regression models. It measures the average of the absolute differences between the predicted values (\\(\\hat{y}\\)) and the actual values (\\(y\\)).\n",
        "\n",
        "### Formula:\n",
        "\n",
        "\n",
        "$$\n",
        "\\text{MAE} = \\frac{1}{n} \\sum_{i=1}^{n} |y_i - \\hat{y}_i|\n",
        "$$\n",
        "\n"
      ],
      "metadata": {
        "id": "UuVNrMynjwFc"
      }
    },
    {
      "cell_type": "markdown",
      "source": [
        "### Bulding a loop (and a testing loop) in PyTorch\n",
        "\n",
        "A couple of things we need in a training loop:\n",
        "\n",
        "0. Loop through the data\n",
        "1. Forward pass(this involves data moving through our model's `forward()` to make predictions on data - also called as **Forward propogation**\n",
        "2. Calculate the loss (compare forward pass predictions to ground truth labels)\n",
        "3. Optimizer zero grad\n",
        "4. Loss backward - move backwards through the network to calculate the gradients of each  of the parameters of our model with respect to the loss (**Backpropagation**)\n",
        "5. Optimizer step: use the optimizer to adjust our model's parameters to try and improve the loss (**gradient descent**)\n"
      ],
      "metadata": {
        "id": "VY5j6AyXnK5O"
      }
    },
    {
      "cell_type": "markdown",
      "source": [
        "# Example Walkthrought of the above\n",
        "\n",
        "### 1. **Defining the Epochs**\n",
        "```python\n",
        "epochs = 1\n",
        "```\n",
        "- **Explanation:**\n",
        "  - `epochs` is a hyperparameter that defines how many times the model will loop through the entire training dataset.\n",
        "  - In this case, it's set to `1`, meaning the training process will only loop through the dataset once.\n",
        "\n",
        "---\n",
        "\n",
        "### 2. **Loop Through the Data**\n",
        "```python\n",
        "for epoch in range(epochs):\n",
        "```\n",
        "- **Explanation:**\n",
        "  - The loop ensures the model iterates through the dataset for the specified number of epochs.\n",
        "  - Here, since `epochs = 1`, the loop will run once.\n",
        "\n",
        "---\n",
        "\n",
        "### 3. **Set the Model to Training Mode**\n",
        "```python\n",
        "model_0.train()\n",
        "```\n",
        "- **Explanation:**\n",
        "  - The `.train()` method sets the model to training mode.\n",
        "  - It ensures that certain layers (e.g., dropout, batch normalization) behave correctly during training (e.g., dropout randomly disables some neurons).\n",
        "\n",
        "---\n",
        "\n",
        "### 4. **Forward Pass**\n",
        "```python\n",
        "y_pred = model_0(X_train)\n",
        "```\n",
        "- **Explanation:**\n",
        "  - The input data `X_train` is passed through the model `model_0` to compute predictions `y_pred`.\n",
        "  - This is called the **forward pass** where the model processes the data.\n",
        "\n",
        "---\n",
        "\n",
        "### 5. **Calculate the Loss**\n",
        "```python\n",
        "loss = loss_fn(y_pred, y_train)\n",
        "```\n",
        "- **Explanation:**\n",
        "  - The **loss function** (`loss_fn`) compares the model's predictions (`y_pred`) with the actual target values (`y_train`).\n",
        "  - The result is the **loss**, a measure of how well the model's predictions match the true labels.\n",
        "\n",
        "---\n",
        "\n",
        "### 6. **Zero the Gradients**\n",
        "```python\n",
        "optimizer.zero_grad()\n",
        "```\n",
        "- **Explanation:**\n",
        "  - Gradients from the previous step are stored in the optimizer. To prevent accumulation, `optimizer.zero_grad()` clears these gradients before calculating new ones.\n",
        "\n",
        "---\n",
        "\n",
        "### 7. **Backpropagation**\n",
        "```python\n",
        "loss.backward()\n",
        "```\n",
        "- **Explanation:**\n",
        "  - **Backpropagation** computes the gradients of the loss with respect to the model's parameters (weights and biases) using the chain rule.\n",
        "  - These gradients will be used to update the model's parameters.\n",
        "\n",
        "---\n",
        "\n",
        "### 8. **Update Model Parameters (Optimizer Step)**\n",
        "```python\n",
        "optimizer.step()\n",
        "```\n",
        "- **Explanation:**\n",
        "  - The **optimizer** updates the model's parameters (e.g., weights) based on the computed gradients and the learning rate.\n",
        "  - This step performs **gradient descent**, adjusting the parameters to reduce the loss.\n",
        "\n",
        "\n",
        "\n",
        "If encounter doubt search in chatgpt for Numerical example for this\n"
      ],
      "metadata": {
        "id": "ZJzXkqrmIDTi"
      }
    },
    {
      "cell_type": "code",
      "source": [
        "torch.manual_seed(42)\n",
        "# An epoch is one loop through the data... (this is a hyperparameter beacuse we've set it ourselves)\n",
        "epochs = 200\n",
        "\n",
        "# Track different values\n",
        "epoch_count = []\n",
        "loss_values = []\n",
        "test_loss_values = []\n",
        "\n",
        "###Training\n",
        "# 0.Loop through the data\n",
        "for epoch in range(epochs):\n",
        "    # Set the model to the training mode\n",
        "    model_0.train() # train mode in PyTorch sets all the parameters that require gradients to require gradients (The .train() method sets the model to training mode.)\n",
        "\n",
        "    # 1. Forward pass\n",
        "    y_pred = model_0(X_train)\n",
        "\n",
        "    # 2. Calculate the loss\n",
        "    loss = loss_fn(y_pred, y_train) # (predicted value, actual value)\n",
        "\n",
        "    # 3. Optimizer zero grad\n",
        "    optimizer.zero_grad()\n",
        "\n",
        "    # 4. Perform backpropogation on the loss with respect to te parameters of the model\n",
        "    loss.backward()\n",
        "\n",
        "    # Step the optimizer (perform gradient descent)\n",
        "    optimizer.step()\n",
        "\n",
        "    ### Testing\n",
        "    model_0.eval() # turns off differnet settings in the model not needed for evaluation/testing(dropout/ batch norm layers)\n",
        "    with torch.inference_mode():  # turns off gradient tracking and couple of more things behind the scene\n",
        "\n",
        "        # 1. Do the forward pass\n",
        "        test_pred = model_0(X_test)\n",
        "\n",
        "        # 2. Calculate the loss\n",
        "        test_loss = loss_fn(test_pred, y_test)\n",
        "\n",
        "    # Print out what's happenin'\n",
        "    if epoch % 10 == 0:\n",
        "        epoch_count.append(epoch)\n",
        "        loss_values.append(loss)\n",
        "        test_loss_values.append(test_loss)\n",
        "        print(f\"Epoch: {epoch} | Loss: {loss} | Test loss: {test_loss}\")\n",
        "    # Print the model state_dict\n",
        "        print(f\"{model_0.state_dict()}\\n\")\n",
        "\n"
      ],
      "metadata": {
        "id": "9uhygH0Lr4Ho",
        "colab": {
          "base_uri": "https://localhost:8080/"
        },
        "collapsed": true,
        "outputId": "82262b66-911f-4e30-c22b-760c1d81b17d"
      },
      "execution_count": null,
      "outputs": [
        {
          "output_type": "stream",
          "name": "stdout",
          "text": [
            "Epoch: 0 | Loss: 0.31288138031959534 | Test loss: 0.48106518387794495\n",
            "OrderedDict([('weights', tensor([0.3406])), ('bias', tensor([0.1388]))])\n",
            "\n",
            "Epoch: 10 | Loss: 0.1976713240146637 | Test loss: 0.3463551998138428\n",
            "OrderedDict([('weights', tensor([0.3796])), ('bias', tensor([0.2388]))])\n",
            "\n",
            "Epoch: 20 | Loss: 0.08908725529909134 | Test loss: 0.21729660034179688\n",
            "OrderedDict([('weights', tensor([0.4184])), ('bias', tensor([0.3333]))])\n",
            "\n",
            "Epoch: 30 | Loss: 0.053148526698350906 | Test loss: 0.14464017748832703\n",
            "OrderedDict([('weights', tensor([0.4512])), ('bias', tensor([0.3768]))])\n",
            "\n",
            "Epoch: 40 | Loss: 0.04543796554207802 | Test loss: 0.11360953003168106\n",
            "OrderedDict([('weights', tensor([0.4748])), ('bias', tensor([0.3868]))])\n",
            "\n",
            "Epoch: 50 | Loss: 0.04167863354086876 | Test loss: 0.09919948130846024\n",
            "OrderedDict([('weights', tensor([0.4938])), ('bias', tensor([0.3843]))])\n",
            "\n",
            "Epoch: 60 | Loss: 0.03818932920694351 | Test loss: 0.08886633068323135\n",
            "OrderedDict([('weights', tensor([0.5116])), ('bias', tensor([0.3788]))])\n",
            "\n",
            "Epoch: 70 | Loss: 0.03476089984178543 | Test loss: 0.0805937647819519\n",
            "OrderedDict([('weights', tensor([0.5288])), ('bias', tensor([0.3718]))])\n",
            "\n",
            "Epoch: 80 | Loss: 0.03132382780313492 | Test loss: 0.07232122868299484\n",
            "OrderedDict([('weights', tensor([0.5459])), ('bias', tensor([0.3648]))])\n",
            "\n",
            "Epoch: 90 | Loss: 0.02788739837706089 | Test loss: 0.06473556160926819\n",
            "OrderedDict([('weights', tensor([0.5629])), ('bias', tensor([0.3573]))])\n",
            "\n",
            "Epoch: 100 | Loss: 0.024458957836031914 | Test loss: 0.05646304413676262\n",
            "OrderedDict([('weights', tensor([0.5800])), ('bias', tensor([0.3503]))])\n",
            "\n",
            "Epoch: 110 | Loss: 0.021020207554101944 | Test loss: 0.04819049686193466\n",
            "OrderedDict([('weights', tensor([0.5972])), ('bias', tensor([0.3433]))])\n",
            "\n",
            "Epoch: 120 | Loss: 0.01758546568453312 | Test loss: 0.04060482233762741\n",
            "OrderedDict([('weights', tensor([0.6141])), ('bias', tensor([0.3358]))])\n",
            "\n",
            "Epoch: 130 | Loss: 0.014155393466353416 | Test loss: 0.03233227878808975\n",
            "OrderedDict([('weights', tensor([0.6313])), ('bias', tensor([0.3288]))])\n",
            "\n",
            "Epoch: 140 | Loss: 0.010716589167714119 | Test loss: 0.024059748277068138\n",
            "OrderedDict([('weights', tensor([0.6485])), ('bias', tensor([0.3218]))])\n",
            "\n",
            "Epoch: 150 | Loss: 0.0072835334576666355 | Test loss: 0.016474086791276932\n",
            "OrderedDict([('weights', tensor([0.6654])), ('bias', tensor([0.3143]))])\n",
            "\n",
            "Epoch: 160 | Loss: 0.0038517764769494534 | Test loss: 0.008201557211577892\n",
            "OrderedDict([('weights', tensor([0.6826])), ('bias', tensor([0.3073]))])\n",
            "\n",
            "Epoch: 170 | Loss: 0.008932482451200485 | Test loss: 0.005023092031478882\n",
            "OrderedDict([('weights', tensor([0.6951])), ('bias', tensor([0.2993]))])\n",
            "\n",
            "Epoch: 180 | Loss: 0.008932482451200485 | Test loss: 0.005023092031478882\n",
            "OrderedDict([('weights', tensor([0.6951])), ('bias', tensor([0.2993]))])\n",
            "\n",
            "Epoch: 190 | Loss: 0.008932482451200485 | Test loss: 0.005023092031478882\n",
            "OrderedDict([('weights', tensor([0.6951])), ('bias', tensor([0.2993]))])\n",
            "\n"
          ]
        }
      ]
    },
    {
      "cell_type": "code",
      "source": [
        "import numpy as np\n",
        "np.array(torch.tensor(loss_values)), test_loss_values # loss_values were in tensor so converted in numpy(matpltlib only works with numpy)"
      ],
      "metadata": {
        "colab": {
          "base_uri": "https://localhost:8080/"
        },
        "id": "vjoODn6VmENm",
        "outputId": "2624ea5c-bcf3-4dd2-f862-c5f0626f6fbf"
      },
      "execution_count": null,
      "outputs": [
        {
          "output_type": "execute_result",
          "data": {
            "text/plain": [
              "(array([0.31288138, 0.19767132, 0.08908726, 0.05314853, 0.04543797,\n",
              "        0.04167863, 0.03818933, 0.0347609 , 0.03132383, 0.0278874 ,\n",
              "        0.02445896, 0.02102021, 0.01758547, 0.01415539, 0.01071659,\n",
              "        0.00728353, 0.00385178, 0.00893248, 0.00893248, 0.00893248],\n",
              "       dtype=float32),\n",
              " [tensor(0.4811),\n",
              "  tensor(0.3464),\n",
              "  tensor(0.2173),\n",
              "  tensor(0.1446),\n",
              "  tensor(0.1136),\n",
              "  tensor(0.0992),\n",
              "  tensor(0.0889),\n",
              "  tensor(0.0806),\n",
              "  tensor(0.0723),\n",
              "  tensor(0.0647),\n",
              "  tensor(0.0565),\n",
              "  tensor(0.0482),\n",
              "  tensor(0.0406),\n",
              "  tensor(0.0323),\n",
              "  tensor(0.0241),\n",
              "  tensor(0.0165),\n",
              "  tensor(0.0082),\n",
              "  tensor(0.0050),\n",
              "  tensor(0.0050),\n",
              "  tensor(0.0050)])"
            ]
          },
          "metadata": {},
          "execution_count": 18
        }
      ]
    },
    {
      "cell_type": "code",
      "source": [
        "# Plot the loss curves\n",
        "plt.plot(epoch_count, np.array(torch.tensor(loss_values)), label=\"Train loss\")\n",
        "plt.plot(epoch_count, test_loss_values, label=\"Test loss\")\n",
        "plt.title(\"Training and test loss curves\")\n",
        "plt.ylabel(\"Loss\")\n",
        "plt.xlabel(\"Epochs\")\n",
        "plt.legend();"
      ],
      "metadata": {
        "colab": {
          "base_uri": "https://localhost:8080/",
          "height": 472
        },
        "id": "wUtQS1LQbURF",
        "outputId": "2ea7356b-07fb-4740-ff9d-947c0e598aae"
      },
      "execution_count": null,
      "outputs": [
        {
          "output_type": "display_data",
          "data": {
            "text/plain": [
              "<Figure size 640x480 with 1 Axes>"
            ],
            "image/png": "[encoded data removed]"
          },
          "metadata": {}
        }
      ]
    },
    {
      "cell_type": "code",
      "source": [
        "plot_predictions(predictions=y_preds) # previous predictions"
      ],
      "metadata": {
        "colab": {
          "base_uri": "https://localhost:8080/",
          "height": 430
        },
        "id": "iHlHxApm_cHs",
        "outputId": "cd591e79-bcb9-43f7-81b2-df1035f7be7f"
      },
      "execution_count": null,
      "outputs": [
        {
          "output_type": "display_data",
          "data": {
            "text/plain": [
              "<Figure size 640x480 with 1 Axes>"
            ],
            "image/png": "[encoded data removed]"
          },
          "metadata": {}
        }
      ]
    },
    {
      "cell_type": "code",
      "source": [
        "with torch.inference_mode():\n",
        "    y_preds_new = model_0(X_test)"
      ],
      "metadata": {
        "id": "QvEdxFN9A6XJ"
      },
      "execution_count": null,
      "outputs": []
    },
    {
      "cell_type": "code",
      "source": [
        "model_0.state_dict()"
      ],
      "metadata": {
        "colab": {
          "base_uri": "https://localhost:8080/"
        },
        "id": "Uf6_qxI9XZlI",
        "outputId": "92a7d43d-fa44-42db-b70e-a8ccfa7fb725"
      },
      "execution_count": null,
      "outputs": [
        {
          "output_type": "execute_result",
          "data": {
            "text/plain": [
              "OrderedDict([('weights', tensor([0.6990])), ('bias', tensor([0.3093]))])"
            ]
          },
          "metadata": {},
          "execution_count": 22
        }
      ]
    },
    {
      "cell_type": "code",
      "source": [
        "# Ideal Parameters\n",
        "weight, bias"
      ],
      "metadata": {
        "colab": {
          "base_uri": "https://localhost:8080/"
        },
        "id": "SKDy3A5XXN4L",
        "outputId": "2b5ab1e1-f0e9-4f60-9583-0d340d5fe58b"
      },
      "execution_count": null,
      "outputs": [
        {
          "output_type": "execute_result",
          "data": {
            "text/plain": [
              "(0.7, 0.3)"
            ]
          },
          "metadata": {},
          "execution_count": 23
        }
      ]
    },
    {
      "cell_type": "code",
      "source": [
        "plot_predictions(predictions=y_preds_new) # new predictions"
      ],
      "metadata": {
        "colab": {
          "base_uri": "https://localhost:8080/",
          "height": 430
        },
        "id": "He1Z8ge2CNc1",
        "outputId": "14d21ff8-690a-449f-ed10-37d3bd375a00"
      },
      "execution_count": null,
      "outputs": [
        {
          "output_type": "display_data",
          "data": {
            "text/plain": [
              "<Figure size 640x480 with 1 Axes>"
            ],
            "image/png": "[encoded data removed]"
          },
          "metadata": {}
        }
      ]
    },
    {
      "cell_type": "markdown",
      "source": [
        "## Saving a model in PyTorch\n",
        "\n",
        "There are three main methods you should know about saving and loading models in PyTorch.\n",
        "\n",
        "1. `torch.save()` - allows you to save a PyTorch object in Python's pickle format\n",
        "2. `torch.load()` - allows you to load a saved PyTorch object\n",
        "3. `torch.nn.Module.load_state_dict()` - this allows to load model's saved state dictionary\n",
        "\n",
        "Pytorch save and load - https://pytorch.org/tutorials/beginner/saving_loading_models.html"
      ],
      "metadata": {
        "id": "cPucRvvRBIPc"
      }
    },
    {
      "cell_type": "code",
      "source": [
        "# Saving out PyTorch model\n",
        "from pathlib import Path\n",
        "\n",
        "# 1. Create models directory\n",
        "MODEL_PATH = Path(\"models\")\n",
        "MODEL_PATH.mkdir(parents=True, exist_ok=True)\n",
        "\n",
        "# 2. Create model save path\n",
        "MODEL_NAME = \"01_pytorch_workflow_model_0.pth\"  # A common PyTorch convention is to save models using either a .pt or .pth file extension.\n",
        "MODEL_SAVE_PATH = MODEL_PATH / MODEL_NAME\n",
        "\n",
        "# Save the model state dict\n",
        "print(f\"Saving model to: {MODEL_SAVE_PATH}\")\n",
        "torch.save(obj=model_0.state_dict(),\n",
        "           f=MODEL_SAVE_PATH)"
      ],
      "metadata": {
        "colab": {
          "base_uri": "https://localhost:8080/"
        },
        "id": "lFoe_1PKof5l",
        "outputId": "1dd64d2e-d084-4a08-9d6e-e378a6be732c"
      },
      "execution_count": null,
      "outputs": [
        {
          "output_type": "stream",
          "name": "stdout",
          "text": [
            "Saving model to: models/01_pytorch_workflow_model_0.pth\n"
          ]
        }
      ]
    },
    {
      "cell_type": "code",
      "source": [
        "!ls -l models # (`!` is used to run shell commands within te notebook)"
      ],
      "metadata": {
        "colab": {
          "base_uri": "https://localhost:8080/"
        },
        "id": "UXEYPqQeq_pz",
        "outputId": "b48e1456-1c0b-48db-db6c-3a8298ca546a"
      },
      "execution_count": null,
      "outputs": [
        {
          "output_type": "stream",
          "name": "stdout",
          "text": [
            "total 4\n",
            "-rw-r--r-- 1 root root 1680 Jan  8 10:58 01_pytorch_workflow_model_0.pth\n"
          ]
        }
      ]
    },
    {
      "cell_type": "markdown",
      "source": [
        "##Loading a PyTorch Model\n",
        "\n",
        "Since we saved our model's `state_dict()` rather than the entire model, we'll create a new instance of our model class and load the saved `state_dict()` into that"
      ],
      "metadata": {
        "id": "MZTCecKUINdr"
      }
    },
    {
      "cell_type": "code",
      "source": [
        "model_0.state_dict()"
      ],
      "metadata": {
        "colab": {
          "base_uri": "https://localhost:8080/"
        },
        "id": "yo1QwVi0I3mE",
        "outputId": "2de00c14-59e6-4d2e-8e0b-8c562acbd565"
      },
      "execution_count": null,
      "outputs": [
        {
          "output_type": "execute_result",
          "data": {
            "text/plain": [
              "OrderedDict([('weights', tensor([0.6990])), ('bias', tensor([0.3093]))])"
            ]
          },
          "metadata": {},
          "execution_count": 27
        }
      ]
    },
    {
      "cell_type": "code",
      "source": [
        "# To load in a saved state_dict we have to instantiate a new instance of our model class\n",
        "loaded_model_0 = LinearRegressionModel()\n",
        "\n",
        "# Load the state_dict of model_0 (this will update the new instance with updated parameters)\n",
        "loaded_model_0.load_state_dict(torch.load(f=MODEL_SAVE_PATH))"
      ],
      "metadata": {
        "colab": {
          "base_uri": "https://localhost:8080/"
        },
        "id": "LdRJKe56I58z",
        "outputId": "0253e576-5ca5-4fed-be6f-9bb15e00cf06"
      },
      "execution_count": null,
      "outputs": [
        {
          "output_type": "stream",
          "name": "stderr",
          "text": [
            "<ipython-input-28-ff644bff1a49>:5: FutureWarning: You are using `torch.load` with `weights_only=False` (the current default value), which uses the default pickle module implicitly. It is possible to construct malicious pickle data which will execute arbitrary code during unpickling (See https://github.com/pytorch/pytorch/blob/main/SECURITY.md#untrusted-models for more details). In a future release, the default value for `weights_only` will be flipped to `True`. This limits the functions that could be executed during unpickling. Arbitrary objects will no longer be allowed to be loaded via this mode unless they are explicitly allowlisted by the user via `torch.serialization.add_safe_globals`. We recommend you start setting `weights_only=True` for any use case where you don't have full control of the loaded file. Please open an issue on GitHub for any issues related to this experimental feature.\n",
            "  loaded_model_0.load_state_dict(torch.load(f=MODEL_SAVE_PATH))\n"
          ]
        },
        {
          "output_type": "execute_result",
          "data": {
            "text/plain": [
              "<All keys matched successfully>"
            ]
          },
          "metadata": {},
          "execution_count": 28
        }
      ]
    },
    {
      "cell_type": "code",
      "source": [
        "loaded_model_0.state_dict()"
      ],
      "metadata": {
        "colab": {
          "base_uri": "https://localhost:8080/"
        },
        "id": "YvRQ9Q_CKDKo",
        "outputId": "c4d9ee16-54cc-4cef-a2ff-b30c23150e0a"
      },
      "execution_count": null,
      "outputs": [
        {
          "output_type": "execute_result",
          "data": {
            "text/plain": [
              "OrderedDict([('weights', tensor([0.6990])), ('bias', tensor([0.3093]))])"
            ]
          },
          "metadata": {},
          "execution_count": 29
        }
      ]
    },
    {
      "cell_type": "code",
      "source": [
        "# Make some predictions with our loaded model\n",
        "loaded_model_0.eval()\n",
        "with torch.inference_mode():\n",
        "    loaded_model_preds = loaded_model_0(X_test)\n",
        "\n",
        "loaded_model_preds"
      ],
      "metadata": {
        "colab": {
          "base_uri": "https://localhost:8080/"
        },
        "id": "OaMeJUnoKIPk",
        "outputId": "af4a66de-c4b0-4fba-abda-2cf95a1ed676"
      },
      "execution_count": null,
      "outputs": [
        {
          "output_type": "execute_result",
          "data": {
            "text/plain": [
              "tensor([[0.8685],\n",
              "        [0.8825],\n",
              "        [0.8965],\n",
              "        [0.9105],\n",
              "        [0.9245],\n",
              "        [0.9384],\n",
              "        [0.9524],\n",
              "        [0.9664],\n",
              "        [0.9804],\n",
              "        [0.9944]])"
            ]
          },
          "metadata": {},
          "execution_count": 30
        }
      ]
    },
    {
      "cell_type": "code",
      "source": [
        "# Compare the Original model (model_0) and Loaded model (loaded_model_0)\n",
        "loaded_model_preds == y_preds_new"
      ],
      "metadata": {
        "colab": {
          "base_uri": "https://localhost:8080/"
        },
        "id": "C7agq4p5KxyI",
        "outputId": "72336de1-76d9-457f-9382-c27d24a01d7a"
      },
      "execution_count": null,
      "outputs": [
        {
          "output_type": "execute_result",
          "data": {
            "text/plain": [
              "tensor([[True],\n",
              "        [True],\n",
              "        [True],\n",
              "        [True],\n",
              "        [True],\n",
              "        [True],\n",
              "        [True],\n",
              "        [True],\n",
              "        [True],\n",
              "        [True]])"
            ]
          },
          "metadata": {},
          "execution_count": 31
        }
      ]
    },
    {
      "cell_type": "markdown",
      "source": [
        "##Putting it all together\n",
        "\n",
        "Let's go back through the steps above and see it in palce"
      ],
      "metadata": {
        "id": "F3heZN5_Lpcl"
      }
    },
    {
      "cell_type": "code",
      "source": [
        "# Import PyTorch and matplotlib"
      ],
      "metadata": {
        "id": "EQ8NMPBBNi5j"
      },
      "execution_count": null,
      "outputs": []
    },
    {
      "cell_type": "markdown",
      "source": [
        "Create device agnostic code\n",
        "\n",
        "This means if we've got access to GPU, our code will use it (for potentially faster Computing)\n",
        "\n",
        "If no GPU is available, the code will default to using CPU"
      ],
      "metadata": {
        "id": "P5Bs7xkTM-VP"
      }
    },
    {
      "cell_type": "code",
      "source": [
        "# Setup the device agnostic code\n",
        "device = \"cuda\" if torch.cuda.is_available() else \"cpu\"\n",
        "print(f\"Using device: {device}\")"
      ],
      "metadata": {
        "colab": {
          "base_uri": "https://localhost:8080/"
        },
        "id": "I58qxESNNnPp",
        "outputId": "d5ad5164-373d-4f2a-8d2d-0624c52c0c50"
      },
      "execution_count": null,
      "outputs": [
        {
          "output_type": "stream",
          "name": "stdout",
          "text": [
            "Using device: cuda\n"
          ]
        }
      ]
    },
    {
      "cell_type": "code",
      "source": [],
      "metadata": {
        "id": "b2m6WfTlOgZY"
      },
      "execution_count": null,
      "outputs": []
    }
  ]
}